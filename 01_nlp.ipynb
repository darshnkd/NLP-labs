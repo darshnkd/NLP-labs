{
  "nbformat": 4,
  "nbformat_minor": 0,
  "metadata": {
    "colab": {
      "provenance": [],
      "authorship_tag": "ABX9TyM1SKHt8sVuE8BjDsk9zaNi",
      "include_colab_link": true
    },
    "kernelspec": {
      "name": "python3",
      "display_name": "Python 3"
    },
    "language_info": {
      "name": "python"
    }
  },
  "cells": [
    {
      "cell_type": "markdown",
      "metadata": {
        "id": "view-in-github",
        "colab_type": "text"
      },
      "source": [
        "<a href=\"https://colab.research.google.com/github/darshnkd/NLP-labs/blob/main/01_nlp.ipynb\" target=\"_parent\"><img src=\"https://colab.research.google.com/assets/colab-badge.svg\" alt=\"Open In Colab\"/></a>"
      ]
    },
    {
      "cell_type": "markdown",
      "source": [
        "**Name: Darshan Dhanwade**\n",
        "\n",
        "**Roll No : 24**"
      ],
      "metadata": {
        "id": "g4FKbPOLZnDQ"
      }
    },
    {
      "cell_type": "markdown",
      "source": [
        "##Practical : 01\n",
        "**Aim**: Introduction to nltk and spacy library, Implement the tokenization on the corpus."
      ],
      "metadata": {
        "id": "EnqnCYHYEZUY"
      }
    },
    {
      "cell_type": "markdown",
      "source": [
        "**1. NLTK (Natural Language Toolkit):**\n",
        "\n",
        "NLTK is a leading platform for building Python programs to work with human language data. It provides easy-to-use interfaces and libraries for tasks such as tokenization, stemming, lemmatization, part-of-speech tagging, and parsing. NLTK is widely used in natural language processing (NLP) research and education."
      ],
      "metadata": {
        "id": "1fV7tc7vF-LQ"
      }
    },
    {
      "cell_type": "code",
      "execution_count": null,
      "metadata": {
        "colab": {
          "base_uri": "https://localhost:8080/"
        },
        "id": "NlSTuCkkDuYI",
        "outputId": "bfaa4fe7-a1e5-4490-87ab-43dd760a0ec7"
      },
      "outputs": [
        {
          "output_type": "stream",
          "name": "stderr",
          "text": [
            "[nltk_data] Downloading package punkt to /root/nltk_data...\n",
            "[nltk_data]   Unzipping tokenizers/punkt.zip.\n"
          ]
        },
        {
          "output_type": "execute_result",
          "data": {
            "text/plain": [
              "True"
            ]
          },
          "metadata": {},
          "execution_count": 10
        }
      ],
      "source": [
        "import nltk\n",
        "nltk.download('punkt')"
      ]
    },
    {
      "cell_type": "code",
      "source": [
        "text = \"Cristiano Ronaldo is one of the greatest footballers of all time. He has won multiple Ballon d’Or awards throughout his career. Ronaldo is known for his incredible goal-scoring ability and athleticism. He has played for top clubs like Manchester United, Real Madrid, and Juventus. Ronaldo holds the record for the most goals scored in the UEFA Champions League. His dedication to fitness and training is unmatched, making him a role model for many.\"\n",
        "\n",
        "# Character tokenization\n",
        "characters = list(text)\n",
        "print(\"Character Tokenization:\", characters)"
      ],
      "metadata": {
        "colab": {
          "base_uri": "https://localhost:8080/"
        },
        "id": "YAy4PqkVHAm8",
        "outputId": "e8233d69-21a1-40b3-8b92-b74a4a98d7a8"
      },
      "execution_count": null,
      "outputs": [
        {
          "output_type": "stream",
          "name": "stdout",
          "text": [
            "Character Tokenization: ['C', 'r', 'i', 's', 't', 'i', 'a', 'n', 'o', ' ', 'R', 'o', 'n', 'a', 'l', 'd', 'o', ' ', 'i', 's', ' ', 'o', 'n', 'e', ' ', 'o', 'f', ' ', 't', 'h', 'e', ' ', 'g', 'r', 'e', 'a', 't', 'e', 's', 't', ' ', 'f', 'o', 'o', 't', 'b', 'a', 'l', 'l', 'e', 'r', 's', ' ', 'o', 'f', ' ', 'a', 'l', 'l', ' ', 't', 'i', 'm', 'e', '.', ' ', 'H', 'e', ' ', 'h', 'a', 's', ' ', 'w', 'o', 'n', ' ', 'm', 'u', 'l', 't', 'i', 'p', 'l', 'e', ' ', 'B', 'a', 'l', 'l', 'o', 'n', ' ', 'd', '’', 'O', 'r', ' ', 'a', 'w', 'a', 'r', 'd', 's', ' ', 't', 'h', 'r', 'o', 'u', 'g', 'h', 'o', 'u', 't', ' ', 'h', 'i', 's', ' ', 'c', 'a', 'r', 'e', 'e', 'r', '.', ' ', 'R', 'o', 'n', 'a', 'l', 'd', 'o', ' ', 'i', 's', ' ', 'k', 'n', 'o', 'w', 'n', ' ', 'f', 'o', 'r', ' ', 'h', 'i', 's', ' ', 'i', 'n', 'c', 'r', 'e', 'd', 'i', 'b', 'l', 'e', ' ', 'g', 'o', 'a', 'l', '-', 's', 'c', 'o', 'r', 'i', 'n', 'g', ' ', 'a', 'b', 'i', 'l', 'i', 't', 'y', ' ', 'a', 'n', 'd', ' ', 'a', 't', 'h', 'l', 'e', 't', 'i', 'c', 'i', 's', 'm', '.', ' ', 'H', 'e', ' ', 'h', 'a', 's', ' ', 'p', 'l', 'a', 'y', 'e', 'd', ' ', 'f', 'o', 'r', ' ', 't', 'o', 'p', ' ', 'c', 'l', 'u', 'b', 's', ' ', 'l', 'i', 'k', 'e', ' ', 'M', 'a', 'n', 'c', 'h', 'e', 's', 't', 'e', 'r', ' ', 'U', 'n', 'i', 't', 'e', 'd', ',', ' ', 'R', 'e', 'a', 'l', ' ', 'M', 'a', 'd', 'r', 'i', 'd', ',', ' ', 'a', 'n', 'd', ' ', 'J', 'u', 'v', 'e', 'n', 't', 'u', 's', '.', ' ', 'R', 'o', 'n', 'a', 'l', 'd', 'o', ' ', 'h', 'o', 'l', 'd', 's', ' ', 't', 'h', 'e', ' ', 'r', 'e', 'c', 'o', 'r', 'd', ' ', 'f', 'o', 'r', ' ', 't', 'h', 'e', ' ', 'm', 'o', 's', 't', ' ', 'g', 'o', 'a', 'l', 's', ' ', 's', 'c', 'o', 'r', 'e', 'd', ' ', 'i', 'n', ' ', 't', 'h', 'e', ' ', 'U', 'E', 'F', 'A', ' ', 'C', 'h', 'a', 'm', 'p', 'i', 'o', 'n', 's', ' ', 'L', 'e', 'a', 'g', 'u', 'e', '.', ' ', 'H', 'i', 's', ' ', 'd', 'e', 'd', 'i', 'c', 'a', 't', 'i', 'o', 'n', ' ', 't', 'o', ' ', 'f', 'i', 't', 'n', 'e', 's', 's', ' ', 'a', 'n', 'd', ' ', 't', 'r', 'a', 'i', 'n', 'i', 'n', 'g', ' ', 'i', 's', ' ', 'u', 'n', 'm', 'a', 't', 'c', 'h', 'e', 'd', ',', ' ', 'm', 'a', 'k', 'i', 'n', 'g', ' ', 'h', 'i', 'm', ' ', 'a', ' ', 'r', 'o', 'l', 'e', ' ', 'm', 'o', 'd', 'e', 'l', ' ', 'f', 'o', 'r', ' ', 'm', 'a', 'n', 'y', '.']\n"
          ]
        }
      ]
    },
    {
      "cell_type": "code",
      "source": [
        "# Word tokenization\n",
        "for word in text.split():\n",
        "  print(word)"
      ],
      "metadata": {
        "colab": {
          "base_uri": "https://localhost:8080/"
        },
        "id": "iRt5p442IlId",
        "outputId": "dda138af-3004-49cd-a127-e46e1130cee6"
      },
      "execution_count": null,
      "outputs": [
        {
          "output_type": "stream",
          "name": "stdout",
          "text": [
            "Cristiano\n",
            "Ronaldo\n",
            "is\n",
            "one\n",
            "of\n",
            "the\n",
            "greatest\n",
            "footballers\n",
            "of\n",
            "all\n",
            "time.\n",
            "He\n",
            "has\n",
            "won\n",
            "multiple\n",
            "Ballon\n",
            "d’Or\n",
            "awards\n",
            "throughout\n",
            "his\n",
            "career.\n",
            "Ronaldo\n",
            "is\n",
            "known\n",
            "for\n",
            "his\n",
            "incredible\n",
            "goal-scoring\n",
            "ability\n",
            "and\n",
            "athleticism.\n",
            "He\n",
            "has\n",
            "played\n",
            "for\n",
            "top\n",
            "clubs\n",
            "like\n",
            "Manchester\n",
            "United,\n",
            "Real\n",
            "Madrid,\n",
            "and\n",
            "Juventus.\n",
            "Ronaldo\n",
            "holds\n",
            "the\n",
            "record\n",
            "for\n",
            "the\n",
            "most\n",
            "goals\n",
            "scored\n",
            "in\n",
            "the\n",
            "UEFA\n",
            "Champions\n",
            "League.\n",
            "His\n",
            "dedication\n",
            "to\n",
            "fitness\n",
            "and\n",
            "training\n",
            "is\n",
            "unmatched,\n",
            "making\n",
            "him\n",
            "a\n",
            "role\n",
            "model\n",
            "for\n",
            "many.\n"
          ]
        }
      ]
    },
    {
      "cell_type": "code",
      "source": [
        "# sentences tokenizationtk\n",
        "from nltk.tokenize import sent_tokenize\n",
        "sentences = sent_tokenize(text)\n",
        "print(\"sentence tokenization:\", sentences)\n",
        "\n",
        "for sentence in sentences:\n",
        "  print(sentence)"
      ],
      "metadata": {
        "colab": {
          "base_uri": "https://localhost:8080/"
        },
        "id": "vLMWHfk7IoaQ",
        "outputId": "74f2dba0-dfe8-4862-ccb4-80ce0b88caf3"
      },
      "execution_count": null,
      "outputs": [
        {
          "output_type": "stream",
          "name": "stdout",
          "text": [
            "sentence tokenization: ['Cristiano Ronaldo is one of the greatest footballers of all time.', 'He has won multiple Ballon d’Or awards throughout his career.', 'Ronaldo is known for his incredible goal-scoring ability and athleticism.', 'He has played for top clubs like Manchester United, Real Madrid, and Juventus.', 'Ronaldo holds the record for the most goals scored in the UEFA Champions League.', 'His dedication to fitness and training is unmatched, making him a role model for many.']\n",
            "Cristiano Ronaldo is one of the greatest footballers of all time.\n",
            "He has won multiple Ballon d’Or awards throughout his career.\n",
            "Ronaldo is known for his incredible goal-scoring ability and athleticism.\n",
            "He has played for top clubs like Manchester United, Real Madrid, and Juventus.\n",
            "Ronaldo holds the record for the most goals scored in the UEFA Champions League.\n",
            "His dedication to fitness and training is unmatched, making him a role model for many.\n"
          ]
        }
      ]
    },
    {
      "cell_type": "markdown",
      "source": [
        "**2**. **spaCy:**\n",
        "\n",
        "spaCy is a fast and efficient NLP library designed for production use. It offers pre-trained models and robust features for tasks like tokenization, named entity recognition (NER), dependency parsing, and word vectors. spaCy’s performance and usability make it a popular choice for building NLP applications.\n",
        "\n"
      ],
      "metadata": {
        "id": "FrSjxoIHGWro"
      }
    },
    {
      "cell_type": "code",
      "source": [
        "import spacy\n",
        "nlp = spacy.load(\"en_core_web_sm\")"
      ],
      "metadata": {
        "id": "I_B-EgYIGegx"
      },
      "execution_count": null,
      "outputs": []
    },
    {
      "cell_type": "code",
      "source": [
        "doc = nlp(text)\n",
        "doc"
      ],
      "metadata": {
        "colab": {
          "base_uri": "https://localhost:8080/"
        },
        "id": "Olqu-hXkKnWo",
        "outputId": "b89e9dc7-6e61-4be2-8daa-0aaddf8a5ba5"
      },
      "execution_count": null,
      "outputs": [
        {
          "output_type": "execute_result",
          "data": {
            "text/plain": [
              "Cristiano Ronaldo is one of the greatest footballers of all time. He has won multiple Ballon d’Or awards throughout his career. Ronaldo is known for his incredible goal-scoring ability and athleticism. He has played for top clubs like Manchester United, Real Madrid, and Juventus. Ronaldo holds the record for the most goals scored in the UEFA Champions League. His dedication to fitness and training is unmatched, making him a role model for many."
            ]
          },
          "metadata": {},
          "execution_count": 17
        }
      ]
    },
    {
      "cell_type": "code",
      "source": [
        "# character tokenization\n",
        "characters = ', '.join(list(text))\n",
        "print(\"Character tokenization:\")\n",
        "print(characters)"
      ],
      "metadata": {
        "colab": {
          "base_uri": "https://localhost:8080/"
        },
        "id": "TbPMRjTTLfkV",
        "outputId": "1d873a7b-c11f-4a8e-97ec-a9dfd6dfdc56"
      },
      "execution_count": null,
      "outputs": [
        {
          "output_type": "stream",
          "name": "stdout",
          "text": [
            "Character tokenization:\n",
            "C, r, i, s, t, i, a, n, o,  , R, o, n, a, l, d, o,  , i, s,  , o, n, e,  , o, f,  , t, h, e,  , g, r, e, a, t, e, s, t,  , f, o, o, t, b, a, l, l, e, r, s,  , o, f,  , a, l, l,  , t, i, m, e, .,  , H, e,  , h, a, s,  , w, o, n,  , m, u, l, t, i, p, l, e,  , B, a, l, l, o, n,  , d, ’, O, r,  , a, w, a, r, d, s,  , t, h, r, o, u, g, h, o, u, t,  , h, i, s,  , c, a, r, e, e, r, .,  , R, o, n, a, l, d, o,  , i, s,  , k, n, o, w, n,  , f, o, r,  , h, i, s,  , i, n, c, r, e, d, i, b, l, e,  , g, o, a, l, -, s, c, o, r, i, n, g,  , a, b, i, l, i, t, y,  , a, n, d,  , a, t, h, l, e, t, i, c, i, s, m, .,  , H, e,  , h, a, s,  , p, l, a, y, e, d,  , f, o, r,  , t, o, p,  , c, l, u, b, s,  , l, i, k, e,  , M, a, n, c, h, e, s, t, e, r,  , U, n, i, t, e, d, ,,  , R, e, a, l,  , M, a, d, r, i, d, ,,  , a, n, d,  , J, u, v, e, n, t, u, s, .,  , R, o, n, a, l, d, o,  , h, o, l, d, s,  , t, h, e,  , r, e, c, o, r, d,  , f, o, r,  , t, h, e,  , m, o, s, t,  , g, o, a, l, s,  , s, c, o, r, e, d,  , i, n,  , t, h, e,  , U, E, F, A,  , C, h, a, m, p, i, o, n, s,  , L, e, a, g, u, e, .,  , H, i, s,  , d, e, d, i, c, a, t, i, o, n,  , t, o,  , f, i, t, n, e, s, s,  , a, n, d,  , t, r, a, i, n, i, n, g,  , i, s,  , u, n, m, a, t, c, h, e, d, ,,  , m, a, k, i, n, g,  , h, i, m,  , a,  , r, o, l, e,  , m, o, d, e, l,  , f, o, r,  , m, a, n, y, .\n"
          ]
        }
      ]
    },
    {
      "cell_type": "code",
      "source": [
        "# word tokenization\n",
        "print(\"word tokenization:\")\n",
        "for token in doc:\n",
        "  print(token)"
      ],
      "metadata": {
        "colab": {
          "base_uri": "https://localhost:8080/"
        },
        "id": "KYRhcuwFLQw_",
        "outputId": "3367e845-a367-46ba-bee4-18307ba31d5b"
      },
      "execution_count": null,
      "outputs": [
        {
          "output_type": "stream",
          "name": "stdout",
          "text": [
            "word tokenization:\n",
            "Cristiano\n",
            "Ronaldo\n",
            "is\n",
            "one\n",
            "of\n",
            "the\n",
            "greatest\n",
            "footballers\n",
            "of\n",
            "all\n",
            "time\n",
            ".\n",
            "He\n",
            "has\n",
            "won\n",
            "multiple\n",
            "Ballon\n",
            "d’Or\n",
            "awards\n",
            "throughout\n",
            "his\n",
            "career\n",
            ".\n",
            "Ronaldo\n",
            "is\n",
            "known\n",
            "for\n",
            "his\n",
            "incredible\n",
            "goal\n",
            "-\n",
            "scoring\n",
            "ability\n",
            "and\n",
            "athleticism\n",
            ".\n",
            "He\n",
            "has\n",
            "played\n",
            "for\n",
            "top\n",
            "clubs\n",
            "like\n",
            "Manchester\n",
            "United\n",
            ",\n",
            "Real\n",
            "Madrid\n",
            ",\n",
            "and\n",
            "Juventus\n",
            ".\n",
            "Ronaldo\n",
            "holds\n",
            "the\n",
            "record\n",
            "for\n",
            "the\n",
            "most\n",
            "goals\n",
            "scored\n",
            "in\n",
            "the\n",
            "UEFA\n",
            "Champions\n",
            "League\n",
            ".\n",
            "His\n",
            "dedication\n",
            "to\n",
            "fitness\n",
            "and\n",
            "training\n",
            "is\n",
            "unmatched\n",
            ",\n",
            "making\n",
            "him\n",
            "a\n",
            "role\n",
            "model\n",
            "for\n",
            "many\n",
            ".\n"
          ]
        }
      ]
    },
    {
      "cell_type": "code",
      "source": [
        "# Sentences tokenization\n",
        "print(\"sentences tokenization:\")\n",
        "for sentences in doc.sents:\n",
        "  print(sentences)"
      ],
      "metadata": {
        "colab": {
          "base_uri": "https://localhost:8080/"
        },
        "id": "lJssOvKuKuiA",
        "outputId": "3ba8cb16-9c9f-4442-be84-b2b3ed751a4a"
      },
      "execution_count": null,
      "outputs": [
        {
          "output_type": "stream",
          "name": "stdout",
          "text": [
            "sentences tokenization:\n",
            "Cristiano Ronaldo is one of the greatest footballers of all time.\n",
            "He has won multiple Ballon d’Or awards throughout his career.\n",
            "Ronaldo is known for his incredible goal-scoring ability and athleticism.\n",
            "He has played for top clubs like Manchester United, Real Madrid, and Juventus.\n",
            "Ronaldo holds the record for the most goals scored in the UEFA Champions League.\n",
            "His dedication to fitness and training is unmatched, making him a role model for many.\n"
          ]
        }
      ]
    }
  ]
}