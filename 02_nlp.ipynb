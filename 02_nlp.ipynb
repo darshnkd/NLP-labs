{
  "nbformat": 4,
  "nbformat_minor": 0,
  "metadata": {
    "colab": {
      "provenance": [],
      "authorship_tag": "ABX9TyMrBnAtXuU/rhELbqJ/uyxU",
      "include_colab_link": true
    },
    "kernelspec": {
      "name": "python3",
      "display_name": "Python 3"
    },
    "language_info": {
      "name": "python"
    }
  },
  "cells": [
    {
      "cell_type": "markdown",
      "metadata": {
        "id": "view-in-github",
        "colab_type": "text"
      },
      "source": [
        "<a href=\"https://colab.research.google.com/github/darshnkd/NLP-labs/blob/main/02_nlp.ipynb\" target=\"_parent\"><img src=\"https://colab.research.google.com/assets/colab-badge.svg\" alt=\"Open In Colab\"/></a>"
      ]
    },
    {
      "cell_type": "markdown",
      "source": [
        "**Name: Darshan Dhanwade**\n",
        "\n",
        "**Roll No: 24**"
      ],
      "metadata": {
        "id": "2vPbeuDLN-fa"
      }
    },
    {
      "cell_type": "markdown",
      "source": [
        "##Practical:2\n",
        "**Aim** : Implement the concept of stemming and lemmatization in the NLP."
      ],
      "metadata": {
        "id": "whzU2DRMNXuM"
      }
    },
    {
      "cell_type": "markdown",
      "source": [
        "**Stemming**:\n",
        "\n",
        "Stemming generates the base word from the inflected word by removing the affixes of the word. It has a set of pre-defined rules that govern the dropping of these affixes. It must be noted that stemmers might not always result in semantically meaningful base words.  Stemmers are faster and computationally less expensive than lemmatizers.\n",
        "\n",
        "**Lemmatization**:\n",
        "\n",
        "Lemmatization techniques in natural language processing (NLP) involve methods to identify and transform words into their base or root forms, known as lemmas. These approaches contribute to text normalization, facilitating more accurate language analysis and processing in various NLP applications."
      ],
      "metadata": {
        "id": "hR0VJDjmW3us"
      }
    },
    {
      "cell_type": "code",
      "source": [
        "import nltk\n",
        "nltk.download('punkt')"
      ],
      "metadata": {
        "colab": {
          "base_uri": "https://localhost:8080/"
        },
        "id": "9pQfZQKmRVaT",
        "outputId": "230b160e-bb80-4fdf-ad6f-a7b46f9e8e94"
      },
      "execution_count": null,
      "outputs": [
        {
          "output_type": "stream",
          "name": "stderr",
          "text": [
            "[nltk_data] Downloading package punkt to /root/nltk_data...\n",
            "[nltk_data]   Unzipping tokenizers/punkt.zip.\n"
          ]
        },
        {
          "output_type": "execute_result",
          "data": {
            "text/plain": [
              "True"
            ]
          },
          "metadata": {},
          "execution_count": 15
        }
      ]
    },
    {
      "cell_type": "code",
      "source": [
        "from nltk.stem import PorterStemmer\n",
        "from nltk.tokenize import word_tokenize"
      ],
      "metadata": {
        "id": "9UajmRu0Rs4N"
      },
      "execution_count": null,
      "outputs": []
    },
    {
      "cell_type": "code",
      "source": [
        "# Initialize the Porter Stemmer\n",
        "stemmer = PorterStemmer()"
      ],
      "metadata": {
        "id": "-gj9LHMQSEU5"
      },
      "execution_count": null,
      "outputs": []
    },
    {
      "cell_type": "code",
      "source": [
        "text = \"World War II began in 1939 and ended in 1945. It involved numerous countries and had a profound impact on the world. The conflict led to significant political and social changes.”\"\n",
        "text"
      ],
      "metadata": {
        "colab": {
          "base_uri": "https://localhost:8080/",
          "height": 52
        },
        "id": "NpWzmvwKRfCy",
        "outputId": "b17f7522-28c9-465b-b755-bf533a2d0c5f"
      },
      "execution_count": null,
      "outputs": [
        {
          "output_type": "execute_result",
          "data": {
            "text/plain": [
              "'World War II began in 1939 and ended in 1945. It involved numerous countries and had a profound impact on the world. The conflict led to significant political and social changes.”'"
            ],
            "application/vnd.google.colaboratory.intrinsic+json": {
              "type": "string"
            }
          },
          "metadata": {},
          "execution_count": 18
        }
      ]
    },
    {
      "cell_type": "code",
      "source": [
        "# Tokenize the text in to word\n",
        "words = word_tokenize(text)\n",
        "\n",
        "# Perform the stemming\n",
        "for word in words:\n",
        "  stemmed_word = stemmer.stem(word)\n",
        "  print(f\"{word}: {stemmed_word}\")"
      ],
      "metadata": {
        "colab": {
          "base_uri": "https://localhost:8080/"
        },
        "id": "OJtp6LO_Rmjx",
        "outputId": "772e269e-dd53-48cd-8b9f-bf07201bb078"
      },
      "execution_count": null,
      "outputs": [
        {
          "output_type": "stream",
          "name": "stdout",
          "text": [
            "World: world\n",
            "War: war\n",
            "II: ii\n",
            "began: began\n",
            "in: in\n",
            "1939: 1939\n",
            "and: and\n",
            "ended: end\n",
            "in: in\n",
            "1945: 1945\n",
            ".: .\n",
            "It: it\n",
            "involved: involv\n",
            "numerous: numer\n",
            "countries: countri\n",
            "and: and\n",
            "had: had\n",
            "a: a\n",
            "profound: profound\n",
            "impact: impact\n",
            "on: on\n",
            "the: the\n",
            "world: world\n",
            ".: .\n",
            "The: the\n",
            "conflict: conflict\n",
            "led: led\n",
            "to: to\n",
            "significant: signific\n",
            "political: polit\n",
            "and: and\n",
            "social: social\n",
            "changes: chang\n",
            ".: .\n",
            "”: ”\n"
          ]
        }
      ]
    },
    {
      "cell_type": "markdown",
      "source": [
        "**Lemmatization using spacy**"
      ],
      "metadata": {
        "id": "H7V9UGmGUwAm"
      }
    },
    {
      "cell_type": "code",
      "source": [
        "import spacy\n",
        "nlp = spacy.load(\"en_core_web_sm\")"
      ],
      "metadata": {
        "id": "KOMdVJ_WNXcB"
      },
      "execution_count": null,
      "outputs": []
    },
    {
      "cell_type": "code",
      "source": [
        "text = \"World War II began in 1939 and ended in 1945. It involved numerous countries and had a profound impact on the world. The conflict led to significant political and social changes.”\"\n",
        "doc = nlp(text)\n",
        "doc"
      ],
      "metadata": {
        "colab": {
          "base_uri": "https://localhost:8080/"
        },
        "id": "cJjgWkzbPz5h",
        "outputId": "4c416551-752e-479e-c6c2-2b19f2d40dc5"
      },
      "execution_count": null,
      "outputs": [
        {
          "output_type": "execute_result",
          "data": {
            "text/plain": [
              "World War II began in 1939 and ended in 1945. It involved numerous countries and had a profound impact on the world. The conflict led to significant political and social changes.”"
            ]
          },
          "metadata": {},
          "execution_count": 10
        }
      ]
    },
    {
      "cell_type": "code",
      "source": [
        "# lemmatization using the spacy\n",
        "for token in doc:\n",
        "  print(f\"{token.text}:{token.lemma_}\")"
      ],
      "metadata": {
        "colab": {
          "base_uri": "https://localhost:8080/"
        },
        "id": "JEwKeGRMP-M7",
        "outputId": "e822fecd-9640-44f2-aad5-e4ff74d7da8a"
      },
      "execution_count": null,
      "outputs": [
        {
          "output_type": "stream",
          "name": "stdout",
          "text": [
            "World:World\n",
            "War:War\n",
            "II:II\n",
            "began:begin\n",
            "in:in\n",
            "1939:1939\n",
            "and:and\n",
            "ended:end\n",
            "in:in\n",
            "1945:1945\n",
            ".:.\n",
            "It:it\n",
            "involved:involve\n",
            "numerous:numerous\n",
            "countries:country\n",
            "and:and\n",
            "had:have\n",
            "a:a\n",
            "profound:profound\n",
            "impact:impact\n",
            "on:on\n",
            "the:the\n",
            "world:world\n",
            ".:.\n",
            "The:the\n",
            "conflict:conflict\n",
            "led:lead\n",
            "to:to\n",
            "significant:significant\n",
            "political:political\n",
            "and:and\n",
            "social:social\n",
            "changes:change\n",
            ".:.\n",
            "”:\"\n"
          ]
        }
      ]
    }
  ]
}