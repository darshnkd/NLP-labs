{
  "nbformat": 4,
  "nbformat_minor": 0,
  "metadata": {
    "colab": {
      "provenance": [],
      "authorship_tag": "ABX9TyPwGZFqh8uGJmlZK/Fkm+TW",
      "include_colab_link": true
    },
    "kernelspec": {
      "name": "python3",
      "display_name": "Python 3"
    },
    "language_info": {
      "name": "python"
    }
  },
  "cells": [
    {
      "cell_type": "markdown",
      "metadata": {
        "id": "view-in-github",
        "colab_type": "text"
      },
      "source": [
        "<a href=\"https://colab.research.google.com/github/darshnkd/NLP-labs/blob/main/03_nlp.ipynb\" target=\"_parent\"><img src=\"https://colab.research.google.com/assets/colab-badge.svg\" alt=\"Open In Colab\"/></a>"
      ]
    },
    {
      "cell_type": "markdown",
      "source": [
        "**Name : Darshan Dhanwade**\n",
        "\n",
        "**Roll No : 24**"
      ],
      "metadata": {
        "id": "NGgbDHUpYFPV"
      }
    },
    {
      "cell_type": "markdown",
      "source": [
        "### Practical : 03\n",
        "\n",
        "**AIM** : Perform the POS Tagging in NLP."
      ],
      "metadata": {
        "id": "oAt9mbQVYR85"
      }
    },
    {
      "cell_type": "markdown",
      "source": [
        "**Part-of-Speech (POS)**:\n",
        "\n",
        " tagging in Natural Language Processing (NLP) involves assigning grammatical labels to each word in a text based on its role in the sentence. This process helps in understanding the syntactic structure and meaning of the text.\n",
        "\n",
        "**What is POS Tagging?**\n",
        "\n",
        "POS tagging involves labeling each word in a sentence with its corresponding part of speech, such as noun, verb, adjective, etc. This helps in parsing sentences and extracting useful information.\n"
      ],
      "metadata": {
        "id": "lfGbkCQ7x5qs"
      }
    },
    {
      "cell_type": "code",
      "execution_count": null,
      "metadata": {
        "id": "IeBqZEKpnhzw"
      },
      "outputs": [],
      "source": [
        "import spacy\n",
        "nlp = spacy.load(\"en_core_web_sm\")"
      ]
    },
    {
      "cell_type": "code",
      "source": [
        "text = \"Maharashtra, located in western India, is renowned for its vibrant culture and economic significance. Its capital, Mumbai, is the financial hub of India and a major center for Bollywood. The state boasts a rich historical legacy, notably the Maratha Empire founded by Chhatrapati Shivaji Maharaj. Maharashtra is home to diverse geographical features, from the Western Ghats to scenic coastal areas along the Arabian Sea. The state celebrates festivals like Ganesh Chaturthi with great enthusiasm, showcasing its cultural diversity. Economically, Maharashtra is a powerhouse with significant contributions from sectors such as information technology, manufacturing, and agriculture. The cities of Pune and Nagpur are key contributors to its growth. The state’s literary and artistic traditions add to its cultural richness. Despite its modern advancements, Maharashtra continues to honor its historical roots and traditions.\"\n",
        "doc = nlp(text)\n",
        "doc"
      ],
      "metadata": {
        "colab": {
          "base_uri": "https://localhost:8080/"
        },
        "id": "4WKJpgpbZR_y",
        "outputId": "fda4a518-3832-4fe3-cbb2-4d6f8082dd53"
      },
      "execution_count": null,
      "outputs": [
        {
          "output_type": "execute_result",
          "data": {
            "text/plain": [
              "Maharashtra, located in western India, is renowned for its vibrant culture and economic significance. Its capital, Mumbai, is the financial hub of India and a major center for Bollywood. The state boasts a rich historical legacy, notably the Maratha Empire founded by Chhatrapati Shivaji Maharaj. Maharashtra is home to diverse geographical features, from the Western Ghats to scenic coastal areas along the Arabian Sea. The state celebrates festivals like Ganesh Chaturthi with great enthusiasm, showcasing its cultural diversity. Economically, Maharashtra is a powerhouse with significant contributions from sectors such as information technology, manufacturing, and agriculture. The cities of Pune and Nagpur are key contributors to its growth. The state’s literary and artistic traditions add to its cultural richness. Despite its modern advancements, Maharashtra continues to honor its historical roots and traditions."
            ]
          },
          "metadata": {},
          "execution_count": 15
        }
      ]
    },
    {
      "cell_type": "code",
      "source": [
        "# POS tagging\n",
        "for token in doc:\n",
        "  print(f\"{token.text} : {token.pos_}\")"
      ],
      "metadata": {
        "colab": {
          "base_uri": "https://localhost:8080/"
        },
        "id": "H_iayjFZZZVo",
        "outputId": "597ec9dc-83f7-4f54-da66-99cf01a144b8"
      },
      "execution_count": null,
      "outputs": [
        {
          "output_type": "stream",
          "name": "stdout",
          "text": [
            "Maharashtra : PROPN\n",
            ", : PUNCT\n",
            "located : VERB\n",
            "in : ADP\n",
            "western : ADJ\n",
            "India : PROPN\n",
            ", : PUNCT\n",
            "is : AUX\n",
            "renowned : VERB\n",
            "for : ADP\n",
            "its : PRON\n",
            "vibrant : ADJ\n",
            "culture : NOUN\n",
            "and : CCONJ\n",
            "economic : ADJ\n",
            "significance : NOUN\n",
            ". : PUNCT\n",
            "Its : PRON\n",
            "capital : NOUN\n",
            ", : PUNCT\n",
            "Mumbai : PROPN\n",
            ", : PUNCT\n",
            "is : AUX\n",
            "the : DET\n",
            "financial : ADJ\n",
            "hub : NOUN\n",
            "of : ADP\n",
            "India : PROPN\n",
            "and : CCONJ\n",
            "a : DET\n",
            "major : ADJ\n",
            "center : NOUN\n",
            "for : ADP\n",
            "Bollywood : PROPN\n",
            ". : PUNCT\n",
            "The : DET\n",
            "state : NOUN\n",
            "boasts : VERB\n",
            "a : DET\n",
            "rich : ADJ\n",
            "historical : ADJ\n",
            "legacy : NOUN\n",
            ", : PUNCT\n",
            "notably : ADV\n",
            "the : DET\n",
            "Maratha : PROPN\n",
            "Empire : PROPN\n",
            "founded : VERB\n",
            "by : ADP\n",
            "Chhatrapati : PROPN\n",
            "Shivaji : PROPN\n",
            "Maharaj : PROPN\n",
            ". : PUNCT\n",
            "Maharashtra : PROPN\n",
            "is : AUX\n",
            "home : NOUN\n",
            "to : PART\n",
            "diverse : VERB\n",
            "geographical : ADJ\n",
            "features : NOUN\n",
            ", : PUNCT\n",
            "from : ADP\n",
            "the : DET\n",
            "Western : PROPN\n",
            "Ghats : PROPN\n",
            "to : ADP\n",
            "scenic : ADJ\n",
            "coastal : ADJ\n",
            "areas : NOUN\n",
            "along : ADP\n",
            "the : DET\n",
            "Arabian : PROPN\n",
            "Sea : PROPN\n",
            ". : PUNCT\n",
            "The : DET\n",
            "state : NOUN\n",
            "celebrates : NOUN\n",
            "festivals : NOUN\n",
            "like : ADP\n",
            "Ganesh : PROPN\n",
            "Chaturthi : PROPN\n",
            "with : ADP\n",
            "great : ADJ\n",
            "enthusiasm : NOUN\n",
            ", : PUNCT\n",
            "showcasing : VERB\n",
            "its : PRON\n",
            "cultural : ADJ\n",
            "diversity : NOUN\n",
            ". : PUNCT\n",
            "Economically : ADV\n",
            ", : PUNCT\n",
            "Maharashtra : PROPN\n",
            "is : AUX\n",
            "a : DET\n",
            "powerhouse : NOUN\n",
            "with : ADP\n",
            "significant : ADJ\n",
            "contributions : NOUN\n",
            "from : ADP\n",
            "sectors : NOUN\n",
            "such : ADJ\n",
            "as : ADP\n",
            "information : NOUN\n",
            "technology : NOUN\n",
            ", : PUNCT\n",
            "manufacturing : NOUN\n",
            ", : PUNCT\n",
            "and : CCONJ\n",
            "agriculture : NOUN\n",
            ". : PUNCT\n",
            "The : DET\n",
            "cities : NOUN\n",
            "of : ADP\n",
            "Pune : PROPN\n",
            "and : CCONJ\n",
            "Nagpur : PROPN\n",
            "are : AUX\n",
            "key : ADJ\n",
            "contributors : NOUN\n",
            "to : ADP\n",
            "its : PRON\n",
            "growth : NOUN\n",
            ". : PUNCT\n",
            "The : DET\n",
            "state : NOUN\n",
            "’s : PART\n",
            "literary : ADJ\n",
            "and : CCONJ\n",
            "artistic : ADJ\n",
            "traditions : NOUN\n",
            "add : VERB\n",
            "to : ADP\n",
            "its : PRON\n",
            "cultural : ADJ\n",
            "richness : NOUN\n",
            ". : PUNCT\n",
            "Despite : SCONJ\n",
            "its : PRON\n",
            "modern : ADJ\n",
            "advancements : NOUN\n",
            ", : PUNCT\n",
            "Maharashtra : PROPN\n",
            "continues : VERB\n",
            "to : PART\n",
            "honor : VERB\n",
            "its : PRON\n",
            "historical : ADJ\n",
            "roots : NOUN\n",
            "and : CCONJ\n",
            "traditions : NOUN\n",
            ". : PUNCT\n"
          ]
        }
      ]
    },
    {
      "cell_type": "markdown",
      "source": [
        "**pos tsgging using nltk**"
      ],
      "metadata": {
        "id": "05RZYbk4aP6O"
      }
    },
    {
      "cell_type": "code",
      "source": [
        "# perform pos tagging using nltk\n",
        "import nltk\n",
        "nltk.download('punkt')\n",
        "nltk.download('averaged_perceptron_tagger')\n",
        "from nltk import pos_tag\n",
        "from nltk import word_tokenize"
      ],
      "metadata": {
        "colab": {
          "base_uri": "https://localhost:8080/"
        },
        "id": "ANwH7ouYag8p",
        "outputId": "d19650c7-fcbb-42cd-ba96-a9ad68448863"
      },
      "execution_count": null,
      "outputs": [
        {
          "output_type": "stream",
          "name": "stderr",
          "text": [
            "[nltk_data] Downloading package punkt to /root/nltk_data...\n",
            "[nltk_data]   Package punkt is already up-to-date!\n",
            "[nltk_data] Downloading package averaged_perceptron_tagger to\n",
            "[nltk_data]     /root/nltk_data...\n",
            "[nltk_data]   Unzipping taggers/averaged_perceptron_tagger.zip.\n"
          ]
        }
      ]
    },
    {
      "cell_type": "code",
      "source": [
        "# tokenize the text\n",
        "words = word_tokenize(text)\n",
        "\n",
        "# perform pos tag\n",
        "pos_tags = nltk.pos_tag(words)\n",
        "\n",
        "# print the word with its pos tag\n",
        "for word, tag in pos_tags:\n",
        "  print(f\"{word} : {tag}\")"
      ],
      "metadata": {
        "colab": {
          "base_uri": "https://localhost:8080/"
        },
        "id": "lFdt3gV8t63D",
        "outputId": "5b549c76-a62d-41e0-cdfd-afae0168159f"
      },
      "execution_count": null,
      "outputs": [
        {
          "output_type": "stream",
          "name": "stdout",
          "text": [
            "Maharashtra : NNP\n",
            ", : ,\n",
            "located : VBN\n",
            "in : IN\n",
            "western : JJ\n",
            "India : NNP\n",
            ", : ,\n",
            "is : VBZ\n",
            "renowned : VBN\n",
            "for : IN\n",
            "its : PRP$\n",
            "vibrant : JJ\n",
            "culture : NN\n",
            "and : CC\n",
            "economic : JJ\n",
            "significance : NN\n",
            ". : .\n",
            "Its : PRP$\n",
            "capital : NN\n",
            ", : ,\n",
            "Mumbai : NNP\n",
            ", : ,\n",
            "is : VBZ\n",
            "the : DT\n",
            "financial : JJ\n",
            "hub : NN\n",
            "of : IN\n",
            "India : NNP\n",
            "and : CC\n",
            "a : DT\n",
            "major : JJ\n",
            "center : NN\n",
            "for : IN\n",
            "Bollywood : NNP\n",
            ". : .\n",
            "The : DT\n",
            "state : NN\n",
            "boasts : VBZ\n",
            "a : DT\n",
            "rich : JJ\n",
            "historical : JJ\n",
            "legacy : NN\n",
            ", : ,\n",
            "notably : RB\n",
            "the : DT\n",
            "Maratha : NNP\n",
            "Empire : NNP\n",
            "founded : VBN\n",
            "by : IN\n",
            "Chhatrapati : NNP\n",
            "Shivaji : NNP\n",
            "Maharaj : NNP\n",
            ". : .\n",
            "Maharashtra : NNP\n",
            "is : VBZ\n",
            "home : VBN\n",
            "to : TO\n",
            "diverse : VB\n",
            "geographical : JJ\n",
            "features : NNS\n",
            ", : ,\n",
            "from : IN\n",
            "the : DT\n",
            "Western : JJ\n",
            "Ghats : NNP\n",
            "to : TO\n",
            "scenic : VB\n",
            "coastal : JJ\n",
            "areas : NNS\n",
            "along : IN\n",
            "the : DT\n",
            "Arabian : JJ\n",
            "Sea : NNP\n",
            ". : .\n",
            "The : DT\n",
            "state : NN\n",
            "celebrates : VBZ\n",
            "festivals : NNS\n",
            "like : IN\n",
            "Ganesh : NNP\n",
            "Chaturthi : NNP\n",
            "with : IN\n",
            "great : JJ\n",
            "enthusiasm : NN\n",
            ", : ,\n",
            "showcasing : VBG\n",
            "its : PRP$\n",
            "cultural : JJ\n",
            "diversity : NN\n",
            ". : .\n",
            "Economically : RB\n",
            ", : ,\n",
            "Maharashtra : NNP\n",
            "is : VBZ\n",
            "a : DT\n",
            "powerhouse : NN\n",
            "with : IN\n",
            "significant : JJ\n",
            "contributions : NNS\n",
            "from : IN\n",
            "sectors : NNS\n",
            "such : JJ\n",
            "as : IN\n",
            "information : NN\n",
            "technology : NN\n",
            ", : ,\n",
            "manufacturing : NN\n",
            ", : ,\n",
            "and : CC\n",
            "agriculture : NN\n",
            ". : .\n",
            "The : DT\n",
            "cities : NNS\n",
            "of : IN\n",
            "Pune : NNP\n",
            "and : CC\n",
            "Nagpur : NNP\n",
            "are : VBP\n",
            "key : JJ\n",
            "contributors : NNS\n",
            "to : TO\n",
            "its : PRP$\n",
            "growth : NN\n",
            ". : .\n",
            "The : DT\n",
            "state : NN\n",
            "’ : NNP\n",
            "s : NN\n",
            "literary : NN\n",
            "and : CC\n",
            "artistic : JJ\n",
            "traditions : NNS\n",
            "add : VBP\n",
            "to : TO\n",
            "its : PRP$\n",
            "cultural : JJ\n",
            "richness : NN\n",
            ". : .\n",
            "Despite : IN\n",
            "its : PRP$\n",
            "modern : JJ\n",
            "advancements : NNS\n",
            ", : ,\n",
            "Maharashtra : NNP\n",
            "continues : VBZ\n",
            "to : TO\n",
            "honor : VB\n",
            "its : PRP$\n",
            "historical : JJ\n",
            "roots : NNS\n",
            "and : CC\n",
            "traditions : NNS\n",
            ". : .\n"
          ]
        }
      ]
    },
    {
      "cell_type": "code",
      "source": [],
      "metadata": {
        "id": "7vlJ-RtdvCoC"
      },
      "execution_count": null,
      "outputs": []
    }
  ]
}