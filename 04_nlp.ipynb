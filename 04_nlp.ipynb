{
  "nbformat": 4,
  "nbformat_minor": 0,
  "metadata": {
    "colab": {
      "provenance": [],
      "authorship_tag": "ABX9TyO+IVyTjwF0JmdjJub/B2ry",
      "include_colab_link": true
    },
    "kernelspec": {
      "name": "python3",
      "display_name": "Python 3"
    },
    "language_info": {
      "name": "python"
    }
  },
  "cells": [
    {
      "cell_type": "markdown",
      "metadata": {
        "id": "view-in-github",
        "colab_type": "text"
      },
      "source": [
        "<a href=\"https://colab.research.google.com/github/darshnkd/NLP-labs/blob/main/04_nlp.ipynb\" target=\"_parent\"><img src=\"https://colab.research.google.com/assets/colab-badge.svg\" alt=\"Open In Colab\"/></a>"
      ]
    },
    {
      "cell_type": "markdown",
      "source": [
        "**Name : Darshan Dhanwade**\n",
        "\n",
        "**Roll no : 24**"
      ],
      "metadata": {
        "id": "48kWSflPHW9M"
      }
    },
    {
      "cell_type": "markdown",
      "source": [
        "### Practical 04:\n",
        "\n",
        "**AIM :** Write  A python code to implement the spelling correction in NLP."
      ],
      "metadata": {
        "id": "99YqkIrl8i0G"
      }
    },
    {
      "cell_type": "markdown",
      "source": [],
      "metadata": {
        "id": "NXh4PnMl9ABe"
      }
    },
    {
      "cell_type": "code",
      "execution_count": null,
      "metadata": {
        "colab": {
          "base_uri": "https://localhost:8080/"
        },
        "id": "PxN7mYk-vlzN",
        "outputId": "321b13a8-1a77-4166-f360-9baf43a1acd4"
      },
      "outputs": [
        {
          "output_type": "stream",
          "name": "stdout",
          "text": [
            "Requirement already satisfied: textblob in /usr/local/lib/python3.10/dist-packages (0.17.1)\n",
            "Requirement already satisfied: nltk>=3.1 in /usr/local/lib/python3.10/dist-packages (from textblob) (3.8.1)\n",
            "Requirement already satisfied: click in /usr/local/lib/python3.10/dist-packages (from nltk>=3.1->textblob) (8.1.7)\n",
            "Requirement already satisfied: joblib in /usr/local/lib/python3.10/dist-packages (from nltk>=3.1->textblob) (1.4.2)\n",
            "Requirement already satisfied: regex>=2021.8.3 in /usr/local/lib/python3.10/dist-packages (from nltk>=3.1->textblob) (2024.5.15)\n",
            "Requirement already satisfied: tqdm in /usr/local/lib/python3.10/dist-packages (from nltk>=3.1->textblob) (4.66.4)\n"
          ]
        }
      ],
      "source": [
        "import nltk\n",
        "!pip install textblob"
      ]
    },
    {
      "cell_type": "code",
      "source": [
        "from textblob import TextBlob"
      ],
      "metadata": {
        "id": "QMrHmcDD0En4"
      },
      "execution_count": null,
      "outputs": []
    },
    {
      "cell_type": "code",
      "source": [
        "text = \"characterstisc\"\n",
        "blob = TextBlob(text)\n",
        "blob.correct()\n",
        "print(blob.correct())"
      ],
      "metadata": {
        "colab": {
          "base_uri": "https://localhost:8080/"
        },
        "id": "F9Olzu2i0SAn",
        "outputId": "58347a06-9669-4e6d-c381-6d23577eff66"
      },
      "execution_count": null,
      "outputs": [
        {
          "output_type": "stream",
          "name": "stdout",
          "text": [
            "characteristic\n"
          ]
        }
      ]
    },
    {
      "cell_type": "code",
      "source": [
        "!pip install Levenshtein\n",
        "import re  # Import the 're' module for regular expression operations\n",
        "from collections import Counter\n",
        "import Levenshtein\n",
        "\n"
      ],
      "metadata": {
        "colab": {
          "base_uri": "https://localhost:8080/"
        },
        "id": "rjWnRndu0tNS",
        "outputId": "ade01f52-9e1c-463c-f79c-527d2b69cbcf"
      },
      "execution_count": null,
      "outputs": [
        {
          "output_type": "stream",
          "name": "stdout",
          "text": [
            "Requirement already satisfied: Levenshtein in /usr/local/lib/python3.10/dist-packages (0.25.1)\n",
            "Requirement already satisfied: rapidfuzz<4.0.0,>=3.8.0 in /usr/local/lib/python3.10/dist-packages (from Levenshtein) (3.9.4)\n"
          ]
        }
      ]
    },
    {
      "cell_type": "code",
      "source": [
        "data1 = \"Apple's ecosystem includes robust software platfarms like iOS\""
      ],
      "metadata": {
        "id": "dIoCPLgx5ksd"
      },
      "execution_count": null,
      "outputs": []
    },
    {
      "cell_type": "code",
      "source": [
        "\n",
        "def words(text):\n",
        "    return re.findall(r'\\w+', text.lower())\n"
      ],
      "metadata": {
        "id": "1QMuHAub5zCH"
      },
      "execution_count": null,
      "outputs": []
    },
    {
      "cell_type": "code",
      "source": [
        "def load_corpus(file_path):\n",
        "    with open(file_path, 'r', encoding='utf-8') as file:\n",
        "        return words(file.read())"
      ],
      "metadata": {
        "id": "vRoh-gFS6BVu"
      },
      "execution_count": null,
      "outputs": []
    },
    {
      "cell_type": "code",
      "source": [
        "# Function to build vocabulary from the corpus\n",
        "def build_vocab(corpus):\n",
        "    return Counter(corpus)"
      ],
      "metadata": {
        "id": "qsYDfSn86CW-"
      },
      "execution_count": null,
      "outputs": []
    },
    {
      "cell_type": "code",
      "source": [
        "# Function to find the closest match using Levenshtein distance\n",
        "def correct_word(word, vocab):\n",
        "    closest_word = min(vocab, key=lambda w: Levenshtein.distance(word, w))\n",
        "    return closest_word"
      ],
      "metadata": {
        "id": "3NN99G0X6bvo"
      },
      "execution_count": null,
      "outputs": []
    },
    {
      "cell_type": "code",
      "source": [
        "# Function to correct text using Levenshtein distance\n",
        "def correct_text(text, vocab):\n",
        "    corrected_text = []\n",
        "    for word in text.split():\n",
        "        cleaned_word = re.sub(r'\\W+', '', word)  # Remove punctuation for comparison\n",
        "        if cleaned_word.lower() in vocab:\n",
        "            corrected_word = word  # If the word is correct, keep it as is\n",
        "        else:\n",
        "            corrected_word = correct_word(cleaned_word.lower(), vocab)\n",
        "            if word[0].isupper():\n",
        "                corrected_word = corrected_word.capitalize()\n",
        "        corrected_text.append(corrected_word)\n",
        "    return ' '.join(corrected_text)"
      ],
      "metadata": {
        "id": "EcIiwqrw6e2w"
      },
      "execution_count": null,
      "outputs": []
    },
    {
      "cell_type": "code",
      "source": [
        "# Load your corpus and build the vocabulary\n",
        "corpus = load_corpus('/content/big.txt')  # Ensure you have a text file named 'big.txt' in the same directory\n",
        "WORDS = build_vocab(corpus)"
      ],
      "metadata": {
        "id": "X2BxWoSk6iXw"
      },
      "execution_count": null,
      "outputs": []
    },
    {
      "cell_type": "code",
      "source": [
        "# Example usage\n",
        "data1 = \"Apple's ecosystem includes robust software platfarms like iOS\"\n",
        "corrected_text = correct_text(data1, WORDS)\n",
        "print(f\"Original text: {data1}\")\n",
        "print(f\"Corrected text: {corrected_text}\")"
      ],
      "metadata": {
        "colab": {
          "base_uri": "https://localhost:8080/"
        },
        "id": "ic_gK13s6lfg",
        "outputId": "3d3a6448-397e-4cb7-acbc-744e0bf2cc8c"
      },
      "execution_count": null,
      "outputs": [
        {
          "output_type": "stream",
          "name": "stdout",
          "text": [
            "Original text: Apple's ecosystem includes robust software platfarms like iOS\n",
            "Corrected text: Apple ecosystem includes robust software platforms like iOS\n"
          ]
        }
      ]
    }
  ]
}